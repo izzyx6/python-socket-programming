{
 "cells": [
  {
   "cell_type": "code",
   "execution_count": 1,
   "metadata": {},
   "outputs": [],
   "source": [
    "import socket"
   ]
  },
  {
   "cell_type": "code",
   "execution_count": 2,
   "metadata": {},
   "outputs": [],
   "source": [
    "s = socket.socket()"
   ]
  },
  {
   "cell_type": "markdown",
   "metadata": {},
   "source": [
    "<h1>SOCKET</h1><br>\n",
    "In a bildirectional channel, sockets are endpoints. Python has a module called socket that contain neumerous functions and method for establishing a server to client connection. The default syntax of the given as:\n",
    "        <i>(socket_family, socket_type, protocol=0)</i>\n",
    "        <br>\n",
    "<h4>Server Methods</h4>\n",
    "<b>s.bind()</b> : For binding address to socket. <br> <b>s.listen()</b> : For setting up TCP listener. <br> <b>s.accept()</b> : For accepting TCP client connections passively i.e. by waiting until a connections arrives.\n",
    "<h4>Clients Methods</h4>\n",
    "<b>s.connect()</b> : For initiating an active TCP server connection<br> \n",
    "<h4>Other Methods</h4>\n",
    "<b>s.send()</b> : For transmitting TCP message<br> \n",
    "<b>s.sendto()</b> : For receiving UDP messages<br> \n",
    "<b>s.recv()</b> : For receiving TCP message<br> \n",
    "<b>s.recvfrom()</b> : For receing UDP message<br> \n",
    "<b>s.close()</b> : For closing a socket connection<br> \n",
    "<b>socket.gethostname()</b> : Returns a hostname<br> \n",
    "<br>\n",
    "<h2>LETS MAKE A SIMPLE SERVER CONNECTION</h2>"
   ]
  },
  {
   "cell_type": "code",
   "execution_count": null,
   "metadata": {},
   "outputs": [],
   "source": [
    "# -*- coding: utf-8 -*-\n",
    "\"\"\"\n",
    "Spyder Editor\n",
    "\n",
    "Created on Tue Nov 24 06:31:01 2020\n",
    "\n",
    "@author: ISREAL UFUMAKA\n",
    "\n",
    "import socket\n",
    "\n",
    "s = socket.socket()\n",
    "host = socket.gethostname()\n",
    "port = 65432\n",
    "s.bind((host, port))\n",
    "\n",
    "s.listen(5)\n",
    "while True:\n",
    "    conn, addr = s.accept()\n",
    "    print(\"We have a connection from \", addr)\n",
    "    conn.send(\"Thank you for connecting\")\n",
    "    conn.close()\n",
    "    \n",
    "\"\"\"\n",
    "# we import the python socket library\n",
    "import socket \n",
    "\n",
    "# creating a python socket object we would make a connection to\n",
    "s = socket.socket() \n",
    "# get the local machine name, you can just specify the ip machine adress 127.0.0.1\n",
    "host = socket.gethostname() \n",
    "# port to listen for\n",
    "port = 65432\n",
    "# bind address to port\n",
    "s.bind((host, port)) \n",
    "#  now wait for connection\n",
    "s.listen(5)\n",
    "while True:\n",
    "    #  establishing an active connection with client\n",
    "    con, addr = s.accept()\n",
    "    with con:\n",
    "        print(\"We have a connection from \", addr)\n",
    "        while True:\n",
    "            data = con.recv(1024)\n",
    "            if not data:\n",
    "                break\n",
    "            con.sendall(data)\n",
    "             # closing the previously established connection\n",
    "        con.close() \n",
    "\n",
    "\n",
    "\"\"\"EXPLAINATION OF THE INNER LOOPING\n",
    "with con:\n",
    "        print(\"We have a connection from \", addr)\n",
    "        while True:\n",
    "            data = con.recv(1024)\n",
    "            if not data:\n",
    "                break\n",
    "            con.sendall(data)\n",
    "            \n",
    "We actually use an infinity loop to communicate with con.recv(),\n",
    "and this actually reads whatever the client sends and echos it back directly\n",
    "using con.sendall(). \n",
    "The WITH allows our script close connection automatically.\n",
    "NOTE: if an empty byte is returned i.e. from as b'' from the client,\n",
    "the connection is closed.\n",
    "visit my github repo to access this file from any device:\n",
    "    https://github.com/izzyx6/python-socket-programming\n",
    "\"\"\""
   ]
  },
  {
   "cell_type": "markdown",
   "metadata": {},
   "source": [
    "<h2>LETS MAKE A SIMPLE CLIENT CONNECTION</h2>"
   ]
  },
  {
   "cell_type": "code",
   "execution_count": null,
   "metadata": {},
   "outputs": [],
   "source": [
    "import socket"
   ]
  },
  {
   "cell_type": "code",
   "execution_count": 6,
   "metadata": {},
   "outputs": [
    {
     "name": "stdout",
     "output_type": "stream",
     "text": [
      "Received b'Hello, how are you doing today Mr Server?'\n"
     ]
    },
    {
     "data": {
      "text/plain": [
       "\"\\nThe client script basically makes a connection to the server waiting for\\nconnection and sends a message by calling the s.recv(). The received reply\\nfrom the server is then read and outputed on the screen using print.\\nNOTE: the 'repr' returns the canonical object of a string\\nvisit my github repo to access this file from any device:\\n    https://github.com/izzyx6/python-socket-programming\\n\""
      ]
     },
     "execution_count": 6,
     "metadata": {},
     "output_type": "execute_result"
    }
   ],
   "source": [
    "# -*- coding: utf-8 -*-\n",
    "\"\"\"\n",
    "Created on Tue Nov 24 06:31:01 2020\n",
    "\n",
    "@author: ISREAL UFUMAKA\n",
    "\n",
    "import socket\n",
    "\n",
    "s = socket.socket()\n",
    "host = socket.gethostname()\n",
    "port = 65432\n",
    "s.connect((host, port))\n",
    "print(s.recv(1024))\n",
    "s.close()\n",
    "\n",
    "\"\"\"\n",
    "\n",
    "import socket\n",
    "\n",
    "s = socket.socket()\n",
    "host = socket.gethostname()\n",
    "port = 65432\n",
    "s.connect((host, port))\n",
    "s.sendall(b\"Hello, how are you doing today Mr Server?\")\n",
    "data = s.recv(1024)\n",
    "print(\"Received\", repr(data))\n",
    "s.close()\n",
    "\n",
    "\"\"\"\n",
    "The client script basically makes a connection to the server waiting for\n",
    "connection and sends a message by calling the s.recv(). The received reply\n",
    "from the server is then read and outputed on the screen using print.\n",
    "NOTE: the 'repr' returns the canonical object of a string\n",
    "visit my github repo to access this file from any device:\n",
    "    https://github.com/izzyx6/python-socket-programming\n",
    "\"\"\""
   ]
  },
  {
   "cell_type": "code",
   "execution_count": null,
   "metadata": {},
   "outputs": [],
   "source": []
  }
 ],
 "metadata": {
  "kernelspec": {
   "display_name": "Python 3",
   "language": "python",
   "name": "python3"
  },
  "language_info": {
   "codemirror_mode": {
    "name": "ipython",
    "version": 3
   },
   "file_extension": ".py",
   "mimetype": "text/x-python",
   "name": "python",
   "nbconvert_exporter": "python",
   "pygments_lexer": "ipython3",
   "version": "3.8.3"
  }
 },
 "nbformat": 4,
 "nbformat_minor": 4
}
